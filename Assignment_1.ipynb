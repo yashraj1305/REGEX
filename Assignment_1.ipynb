{
  "nbformat": 4,
  "nbformat_minor": 0,
  "metadata": {
    "colab": {
      "name": "Assignment 1.ipynb",
      "provenance": [],
      "collapsed_sections": []
    },
    "kernelspec": {
      "name": "python3",
      "display_name": "Python 3"
    },
    "language_info": {
      "name": "python"
    }
  },
  "cells": [
    {
      "cell_type": "markdown",
      "metadata": {
        "id": "Uv-ygJcoIphC"
      },
      "source": [
        "- #Task 1\n",
        "- Registration/Referral id : SIRSS2213\n",
        "- Full name : Yashraj Deepak Bharambe"
      ]
    },
    {
      "cell_type": "code",
      "metadata": {
        "colab": {
          "base_uri": "https://localhost:8080/"
        },
        "id": "a5Hgev6fSED9",
        "outputId": "76c86d79-609c-4956-d2aa-e478bbff3b50"
      },
      "source": [
        "1.\n",
        "for i in range(5, 0, -1):\n",
        "    for j in range(1, i + 1):\n",
        "        print(5, end=' ')\n",
        "    print()"
      ],
      "execution_count": null,
      "outputs": [
        {
          "output_type": "stream",
          "text": [
            "5 5 5 5 5 \n",
            "5 5 5 5 \n",
            "5 5 5 \n",
            "5 5 \n",
            "5 \n"
          ],
          "name": "stdout"
        }
      ]
    },
    {
      "cell_type": "code",
      "metadata": {
        "colab": {
          "base_uri": "https://localhost:8080/"
        },
        "id": "2hTt-QHaZvOA",
        "outputId": "785594eb-d838-46f6-b945-c548f990f080"
      },
      "source": [
        "2.\n",
        "for i in range(5, 0, -1):\n",
        "    for j in range(0, i + 1):\n",
        "        print(j, end=' ')\n",
        "    print()"
      ],
      "execution_count": null,
      "outputs": [
        {
          "output_type": "stream",
          "text": [
            "0 1 2 3 4 5 \n",
            "0 1 2 3 4 \n",
            "0 1 2 3 \n",
            "0 1 2 \n",
            "0 1 \n"
          ],
          "name": "stdout"
        }
      ]
    },
    {
      "cell_type": "code",
      "metadata": {
        "colab": {
          "base_uri": "https://localhost:8080/"
        },
        "id": "wvPAZp4SaWS_",
        "outputId": "da280fb5-7a2f-4f2d-e30c-437e35d9bd5b"
      },
      "source": [
        "3.\n",
        "x=1\n",
        "for i in range(5):\n",
        "    for j in range(0, i + 1):\n",
        "        print(x, end=' ')\n",
        "    x+=2\n",
        "    print()"
      ],
      "execution_count": null,
      "outputs": [
        {
          "output_type": "stream",
          "text": [
            "1 \n",
            "3 3 \n",
            "5 5 5 \n",
            "7 7 7 7 \n",
            "9 9 9 9 9 \n"
          ],
          "name": "stdout"
        }
      ]
    },
    {
      "cell_type": "code",
      "metadata": {
        "colab": {
          "base_uri": "https://localhost:8080/"
        },
        "id": "Pp99OOgna9Z_",
        "outputId": "b25e1c15-c089-488a-f8d7-1b29abf02477"
      },
      "source": [
        "4.\n",
        "for i in range(5):\n",
        "    for j in range(i+1, 0, -1):\n",
        "        print(j, end=' ')\n",
        "    print(\"\")"
      ],
      "execution_count": null,
      "outputs": [
        {
          "output_type": "stream",
          "text": [
            "1 \n",
            "2 1 \n",
            "3 2 1 \n",
            "4 3 2 1 \n",
            "5 4 3 2 1 \n"
          ],
          "name": "stdout"
        }
      ]
    },
    {
      "cell_type": "code",
      "metadata": {
        "colab": {
          "base_uri": "https://localhost:8080/"
        },
        "id": "s7yVy5BgbxKW",
        "outputId": "d41907ce-9e01-40d5-bf4e-1e81dd13f721"
      },
      "source": [
        "5.\n",
        "x=2\n",
        "y=x\n",
        "for i in range(1,5):\n",
        "    for j in range(i):\n",
        "        y-=1\n",
        "        print(y, end=' ')\n",
        "    x+=(i+1)\n",
        "    y=x\n",
        "    print(\"\")"
      ],
      "execution_count": null,
      "outputs": [
        {
          "output_type": "stream",
          "text": [
            "1 \n",
            "3 2 \n",
            "6 5 4 \n",
            "10 9 8 7 \n"
          ],
          "name": "stdout"
        }
      ]
    },
    {
      "cell_type": "code",
      "metadata": {
        "colab": {
          "base_uri": "https://localhost:8080/"
        },
        "id": "pmv-iMhkfYIF",
        "outputId": "90f04e01-4f14-4e3c-dac3-30d77a731988"
      },
      "source": [
        "6.\n",
        "def fac(n):\n",
        "  f=1\n",
        "  while(n>1):\n",
        "    f=f*(n)\n",
        "    n=n-1\n",
        "  return f\n",
        "\n",
        "def c(n,r):\n",
        "  return int(fac(n)/(fac(r)*fac(n-r)))\n",
        "  \n",
        "\n",
        "for i in range(0,7):\n",
        "  x=0\n",
        "  for j in range(i+1):\n",
        "    print(c(i,x),end=\" \")\n",
        "    x=x+1\n",
        "  print()"
      ],
      "execution_count": null,
      "outputs": [
        {
          "output_type": "stream",
          "text": [
            "1 \n",
            "1 1 \n",
            "1 2 1 \n",
            "1 3 3 1 \n",
            "1 4 6 4 1 \n",
            "1 5 10 10 5 1 \n",
            "1 6 15 20 15 6 1 \n"
          ],
          "name": "stdout"
        }
      ]
    },
    {
      "cell_type": "code",
      "metadata": {
        "colab": {
          "base_uri": "https://localhost:8080/"
        },
        "id": "EJE4xVS6jiaa",
        "outputId": "0cbe3d7b-eb6f-4601-e714-e63afb953695"
      },
      "source": [
        "7.\n",
        "for i in range(1,6):\n",
        "    for j in range(1,6):\n",
        "        if j <= i:\n",
        "            print(i, end=' ')\n",
        "        else:\n",
        "            print(j, end=' ')\n",
        "    print()"
      ],
      "execution_count": null,
      "outputs": [
        {
          "output_type": "stream",
          "text": [
            "1 2 3 4 5 \n",
            "2 2 3 4 5 \n",
            "3 3 3 4 5 \n",
            "4 4 4 4 5 \n",
            "5 5 5 5 5 \n"
          ],
          "name": "stdout"
        }
      ]
    },
    {
      "cell_type": "code",
      "metadata": {
        "colab": {
          "base_uri": "https://localhost:8080/"
        },
        "id": "1LvoXLDOk-f5",
        "outputId": "19177edb-bb3b-402b-a749-2bf9ca9f589e"
      },
      "source": [
        "8.\n",
        "for i in range(1,9):\n",
        "    for j in range(1,i+1):\n",
        "        print(i*j,end=' ')\n",
        "    print()"
      ],
      "execution_count": null,
      "outputs": [
        {
          "output_type": "stream",
          "text": [
            "1 \n",
            "2 4 \n",
            "3 6 9 \n",
            "4 8 12 16 \n",
            "5 10 15 20 25 \n",
            "6 12 18 24 30 36 \n",
            "7 14 21 28 35 42 49 \n",
            "8 16 24 32 40 48 56 64 \n"
          ],
          "name": "stdout"
        }
      ]
    },
    {
      "cell_type": "code",
      "metadata": {
        "colab": {
          "base_uri": "https://localhost:8080/"
        },
        "id": "HlSxk6-jm0mH",
        "outputId": "77905f72-32b4-4966-a01c-6e9265551848"
      },
      "source": [
        "9.\n",
        "k = 8\n",
        "for i in range(5, -1, -1):\n",
        "    for j in range(0,k):\n",
        "        print(end=\" \")\n",
        "    k = k + 1\n",
        "    for j in range(0, i + 1):\n",
        "        print(\"*\", end=\" \")\n",
        "    print()\n"
      ],
      "execution_count": null,
      "outputs": [
        {
          "output_type": "stream",
          "text": [
            "        * * * * * * \n",
            "         * * * * * \n",
            "          * * * * \n",
            "           * * * \n",
            "            * * \n",
            "             * \n"
          ],
          "name": "stdout"
        }
      ]
    },
    {
      "cell_type": "code",
      "metadata": {
        "colab": {
          "base_uri": "https://localhost:8080/"
        },
        "id": "S13v2EeawE3X",
        "outputId": "040fe271-028f-44d4-9f3d-03ebe20d2fca"
      },
      "source": [
        "10.\n",
        "k = 12\n",
        "for i in range(7):\n",
        "    for j in range(0,k):\n",
        "        print(end=\" \")\n",
        "    k = k - 1\n",
        "    for j in range(0, i + 1):\n",
        "        print(\"*\", end=\" \")\n",
        "    print()\n"
      ],
      "execution_count": null,
      "outputs": [
        {
          "output_type": "stream",
          "text": [
            "            * \n",
            "           * * \n",
            "          * * * \n",
            "         * * * * \n",
            "        * * * * * \n",
            "       * * * * * * \n",
            "      * * * * * * * \n"
          ],
          "name": "stdout"
        }
      ]
    },
    {
      "cell_type": "code",
      "metadata": {
        "colab": {
          "base_uri": "https://localhost:8080/"
        },
        "id": "mD2u4gyowjoZ",
        "outputId": "8a687b9b-ab2a-4d3c-a68a-6c648f4e6f7b"
      },
      "source": [
        "11.\n",
        "for i in range(6):\n",
        "    for j in range(0, i + 1):\n",
        "        print(\"*\", end=\" \")\n",
        "    print()\n",
        "    \n",
        "print()\n",
        "\n",
        "for k in range(6,0,-1):        \n",
        "    for l in range(0,k):\n",
        "        print(\"*\", end=\" \")\n",
        "    print()\n"
      ],
      "execution_count": null,
      "outputs": [
        {
          "output_type": "stream",
          "text": [
            "* \n",
            "* * \n",
            "* * * \n",
            "* * * * \n",
            "* * * * * \n",
            "* * * * * * \n",
            "\n",
            "* * * * * * \n",
            "* * * * * \n",
            "* * * * \n",
            "* * * \n",
            "* * \n",
            "* \n"
          ],
          "name": "stdout"
        }
      ]
    },
    {
      "cell_type": "code",
      "metadata": {
        "colab": {
          "base_uri": "https://localhost:8080/"
        },
        "id": "r-PQuHpey-qy",
        "outputId": "c9883bd7-7fe8-41f2-ac21-950ee7849d6e"
      },
      "source": [
        "12.\n",
        "for i in range(5):\n",
        "    for j in range(0, i+1):\n",
        "        print(\"*\", end=\" \")\n",
        "    print()\n",
        "    \n",
        "for k in range(5,0,-1):        \n",
        "    for l in range(0,k-1):\n",
        "        print(\"*\", end=\" \")\n",
        "    print()\n"
      ],
      "execution_count": null,
      "outputs": [
        {
          "output_type": "stream",
          "text": [
            "* \n",
            "* * \n",
            "* * * \n",
            "* * * * \n",
            "* * * * * \n",
            "* * * * \n",
            "* * * \n",
            "* * \n",
            "* \n",
            "\n"
          ],
          "name": "stdout"
        }
      ]
    },
    {
      "cell_type": "code",
      "metadata": {
        "colab": {
          "base_uri": "https://localhost:8080/"
        },
        "id": "dCnByuXx5aim",
        "outputId": "66156335-1260-4500-b951-dd326e565b8d"
      },
      "source": [
        "13.\n",
        "rows = 5\n",
        "for i in range(1,rows+1):\n",
        "  for j in range(rows-i):\n",
        "    print(\" \",end=\" \")\n",
        "  for k in range(i):\n",
        "   print(\"*\",end=\" \")\n",
        "  print()\n",
        "for i in range(1,rows):\n",
        "  for j in range(i):\n",
        "    print(\" \",end=\" \")\n",
        "  for k in range(rows-i):\n",
        "   print(\"*\",end=\" \")\n",
        "  print()"
      ],
      "execution_count": null,
      "outputs": [
        {
          "output_type": "stream",
          "text": [
            "        * \n",
            "      * * \n",
            "    * * * \n",
            "  * * * * \n",
            "* * * * * \n",
            "  * * * * \n",
            "    * * * \n",
            "      * * \n",
            "        * \n"
          ],
          "name": "stdout"
        }
      ]
    },
    {
      "cell_type": "code",
      "metadata": {
        "colab": {
          "base_uri": "https://localhost:8080/"
        },
        "id": "Fi8kirPG-K0E",
        "outputId": "3edaebc3-498f-4258-a62c-97c205dadfe5"
      },
      "source": [
        "14.\n",
        "rows = 5\n",
        "for i in range(rows):\n",
        "  for j in range(i):\n",
        "    print(end=\" \")\n",
        "  for k in range(rows-i):\n",
        "   print(\"*\",end=\" \")\n",
        "  print()\n",
        "for i in range(1,rows+1):\n",
        "  for j in range(rows-i):\n",
        "    print(\" \",end=\"\")\n",
        "  for k in range(i):\n",
        "   print(\"*\",end=\" \")\n",
        "  print()"
      ],
      "execution_count": null,
      "outputs": [
        {
          "output_type": "stream",
          "text": [
            "* * * * * \n",
            " * * * * \n",
            "  * * * \n",
            "   * * \n",
            "    * \n",
            "    * \n",
            "   * * \n",
            "  * * * \n",
            " * * * * \n",
            "* * * * * \n"
          ],
          "name": "stdout"
        }
      ]
    },
    {
      "cell_type": "code",
      "metadata": {
        "colab": {
          "base_uri": "https://localhost:8080/"
        },
        "id": "RchzxTF9-iqy",
        "outputId": "9a65ff18-f34d-4fdb-b8f9-c3417f4eaa18"
      },
      "source": [
        "15.\n",
        "rows = 7\n",
        "for i in range(0,rows):\n",
        "\n",
        "  for j in range(rows-i):\n",
        "    print(\"*\",end=\"\")\n",
        "  for k in range(i*2):\n",
        "    print(\"_\",end=\"\")\n",
        "  for l in range(rows-i):\n",
        "    print(\"*\",end=\"\")\n",
        "  print()"
      ],
      "execution_count": null,
      "outputs": [
        {
          "output_type": "stream",
          "text": [
            "**************\n",
            "******__******\n",
            "*****____*****\n",
            "****______****\n",
            "***________***\n",
            "**__________**\n",
            "*____________*\n"
          ],
          "name": "stdout"
        }
      ]
    },
    {
      "cell_type": "code",
      "metadata": {
        "id": "IT8Akfu0_-2B"
      },
      "source": [
        ""
      ],
      "execution_count": null,
      "outputs": []
    }
  ]
}