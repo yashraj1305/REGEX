{
 "cells": [
  {
   "cell_type": "markdown",
   "id": "c4a101f5",
   "metadata": {},
   "source": [
    "# Task 3\n",
    "- Registration/Referral id : SIRSS2213\n",
    "- Full name : Yashraj Deepak Bharambe"
   ]
  },
  {
   "cell_type": "markdown",
   "id": "1d2b2e21",
   "metadata": {},
   "source": [
    "### Q1. Write a function to return nth term of Fibonacci sequence."
   ]
  },
  {
   "cell_type": "code",
   "execution_count": 1,
   "id": "3ff8f455",
   "metadata": {},
   "outputs": [
    {
     "name": "stdout",
     "output_type": "stream",
     "text": [
      "Enter a Number : 3\n",
      "2 "
     ]
    }
   ],
   "source": [
    "def fib(n) :\n",
    "    if(n<0) :\n",
    "        return(\"incorrect input\")\n",
    "    elif(n==0):\n",
    "        return 0\n",
    "    elif(n==2 or n==1):\n",
    "        return 1\n",
    "    else : \n",
    "        return (fib(n-1) + fib(n-2))\n",
    "\n",
    "x = int(input(\"Enter a Number : \"))\n",
    "print(fib(x), end = \" \")"
   ]
  },
  {
   "cell_type": "markdown",
   "id": "f84e0914",
   "metadata": {},
   "source": [
    "### Q2. Write a function to find out GCD of two numbers using EUCLID'S algorithm."
   ]
  },
  {
   "cell_type": "code",
   "execution_count": 2,
   "id": "9befa8b4",
   "metadata": {},
   "outputs": [
    {
     "name": "stdout",
     "output_type": "stream",
     "text": [
      "Enter first number : 44\n",
      "Enter second number : 64\n",
      "GCD is :  4\n"
     ]
    }
   ],
   "source": [
    "def GCD(a,b):\n",
    "    if b==0:\n",
    "        return a\n",
    "    else:\n",
    "        return GCD(b,a%b)\n",
    "num1=int(input(\"Enter first number : \"))\n",
    "num2=int(input(\"Enter second number : \"))\n",
    "print(\"GCD is : \", GCD(num1,num2))"
   ]
  },
  {
   "cell_type": "markdown",
   "id": "19ab9d9b",
   "metadata": {},
   "source": [
    "### Q3. Write a function to find LCM of two number in most optimizers way."
   ]
  },
  {
   "cell_type": "code",
   "execution_count": 3,
   "id": "7f21cc6e",
   "metadata": {},
   "outputs": [
    {
     "name": "stdout",
     "output_type": "stream",
     "text": [
      "Enter first number : 23\n",
      "Enter seconf number : 32\n",
      "Lcm of  23 and 32 is : 736\n"
     ]
    }
   ],
   "source": [
    "def lcm(num1,num2):\n",
    "    return (num1//GCD(num1,num2))*num2\n",
    "num1=int(input(\"Enter first number : \"))\n",
    "num2=int(input(\"Enter seconf number : \"))\n",
    "print('Lcm of ',num1,\"and\",num2,'is :',lcm(num1,num2))"
   ]
  },
  {
   "cell_type": "code",
   "execution_count": null,
   "id": "f36d391b",
   "metadata": {},
   "outputs": [],
   "source": []
  }
 ],
 "metadata": {
  "kernelspec": {
   "display_name": "Python 3 (ipykernel)",
   "language": "python",
   "name": "python3"
  },
  "language_info": {
   "codemirror_mode": {
    "name": "ipython",
    "version": 3
   },
   "file_extension": ".py",
   "mimetype": "text/x-python",
   "name": "python",
   "nbconvert_exporter": "python",
   "pygments_lexer": "ipython3",
   "version": "3.9.6"
  },
  "varInspector": {
   "cols": {
    "lenName": 16,
    "lenType": 16,
    "lenVar": 40
   },
   "kernels_config": {
    "python": {
     "delete_cmd_postfix": "",
     "delete_cmd_prefix": "del ",
     "library": "var_list.py",
     "varRefreshCmd": "print(var_dic_list())"
    },
    "r": {
     "delete_cmd_postfix": ") ",
     "delete_cmd_prefix": "rm(",
     "library": "var_list.r",
     "varRefreshCmd": "cat(var_dic_list()) "
    }
   },
   "types_to_exclude": [
    "module",
    "function",
    "builtin_function_or_method",
    "instance",
    "_Feature"
   ],
   "window_display": false
  }
 },
 "nbformat": 4,
 "nbformat_minor": 5
}
