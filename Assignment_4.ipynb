{
 "cells": [
  {
   "cell_type": "markdown",
   "id": "1026871f",
   "metadata": {},
   "source": [
    "# Task 4\n",
    "- Registration/Referral id : SIRSS2213\n",
    "- Full name : Yashraj Deepak Bharambe"
   ]
  },
  {
   "cell_type": "markdown",
   "id": "615673ab",
   "metadata": {},
   "source": [
    "### First, let’s import the necessary libraries and store the data in our system for analysis."
   ]
  },
  {
   "cell_type": "code",
   "execution_count": null,
   "id": "c2fef45a",
   "metadata": {},
   "outputs": [],
   "source": [
    "import pandas as pd\n",
    "import seaborn as sns\n",
    "import numpy as np\n",
    "import matplotlib.pyplot as plt"
   ]
  },
  {
   "cell_type": "code",
   "execution_count": null,
   "id": "6d40c647",
   "metadata": {},
   "outputs": [],
   "source": [
    "data=pd.read_csv(\"vaccinationdata.csv\")"
   ]
  },
  {
   "cell_type": "markdown",
   "id": "36e4a1c1",
   "metadata": {},
   "source": [
    "###  Displaying first 10 rows"
   ]
  },
  {
   "cell_type": "code",
   "execution_count": null,
   "id": "57360472",
   "metadata": {
    "scrolled": true
   },
   "outputs": [],
   "source": [
    "data.head(10)"
   ]
  },
  {
   "cell_type": "markdown",
   "id": "801d0849",
   "metadata": {},
   "source": [
    "### Displaying last 5 rows"
   ]
  },
  {
   "cell_type": "code",
   "execution_count": null,
   "id": "3fc2fd67",
   "metadata": {
    "scrolled": true
   },
   "outputs": [],
   "source": [
    "data.tail()"
   ]
  },
  {
   "cell_type": "markdown",
   "id": "6272a982",
   "metadata": {},
   "source": [
    "### Displaying general information about our dataset"
   ]
  },
  {
   "cell_type": "code",
   "execution_count": null,
   "id": "d1453cf5",
   "metadata": {},
   "outputs": [],
   "source": [
    "type(data)"
   ]
  },
  {
   "cell_type": "code",
   "execution_count": null,
   "id": "f4565013",
   "metadata": {},
   "outputs": [],
   "source": [
    "data.info()"
   ]
  },
  {
   "cell_type": "code",
   "execution_count": null,
   "id": "e9bb5637",
   "metadata": {},
   "outputs": [],
   "source": [
    "data.shape"
   ]
  },
  {
   "cell_type": "markdown",
   "id": "0c4be6cd",
   "metadata": {},
   "source": [
    "### Checking for null values and handeling them."
   ]
  },
  {
   "cell_type": "code",
   "execution_count": null,
   "id": "fbd78368",
   "metadata": {},
   "outputs": [],
   "source": [
    "#checking the missing values\n",
    "data.isnull().sum()"
   ]
  },
  {
   "cell_type": "code",
   "execution_count": null,
   "id": "90601672",
   "metadata": {},
   "outputs": [],
   "source": [
    "fv = data['FULLY_VACCINATED'].mean()\n",
    "plusdose = data['PERSONS_VACCINATED_1PLUS_DOSE'].mean()\n",
    "nov = data['TOTAL_VACCINATIONS'].mean()\n",
    "used = data['NUMBER_VACCINES_TYPES_USED'].mean()\n",
    "data['FULLY_VACCINATED'].replace(np.nan, fv, inplace = True)\n",
    "data['PERSONS_VACCINATED_1PLUS_DOSE'].replace(np.nan, plusdose, inplace = True)\n",
    "data['TOTAL_VACCINATIONS'].replace(np.nan, nov, inplace = True)\n",
    "data['NUMBER_VACCINES_TYPES_USED'].replace(np.nan, used, inplace = True)"
   ]
  },
  {
   "cell_type": "markdown",
   "id": "d61a29b0",
   "metadata": {},
   "source": [
    "### Displaying Statistical Insight about dataset.\n",
    "- This step should be performed for getting details about various statistical data like Mean, Standard Deviation, Median, Max Value, Min Value, Correlation."
   ]
  },
  {
   "cell_type": "code",
   "execution_count": null,
   "id": "e174771a",
   "metadata": {},
   "outputs": [],
   "source": [
    "data.dtypes"
   ]
  },
  {
   "cell_type": "code",
   "execution_count": null,
   "id": "10f0819b",
   "metadata": {},
   "outputs": [],
   "source": [
    "data.columns"
   ]
  },
  {
   "cell_type": "code",
   "execution_count": null,
   "id": "3c0ed68f",
   "metadata": {},
   "outputs": [],
   "source": [
    "data['TOTAL_VACCINATIONS'].describe()"
   ]
  },
  {
   "cell_type": "code",
   "execution_count": null,
   "id": "21419946",
   "metadata": {},
   "outputs": [],
   "source": [
    "data['TOTAL_VACCINATIONS'].mean()"
   ]
  },
  {
   "cell_type": "code",
   "execution_count": null,
   "id": "24b489a4",
   "metadata": {},
   "outputs": [],
   "source": [
    "data['TOTAL_VACCINATIONS'].std()"
   ]
  },
  {
   "cell_type": "code",
   "execution_count": null,
   "id": "a1ef8dbd",
   "metadata": {},
   "outputs": [],
   "source": [
    "data['TOTAL_VACCINATIONS'].count()"
   ]
  },
  {
   "cell_type": "code",
   "execution_count": null,
   "id": "8436d75c",
   "metadata": {},
   "outputs": [],
   "source": [
    "data.describe()"
   ]
  },
  {
   "cell_type": "code",
   "execution_count": null,
   "id": "fd54b0c1",
   "metadata": {},
   "outputs": [],
   "source": [
    "data.corr()"
   ]
  },
  {
   "cell_type": "code",
   "execution_count": null,
   "id": "e569554e",
   "metadata": {},
   "outputs": [],
   "source": [
    "plt.style.use('seaborn-darkgrid')"
   ]
  },
  {
   "cell_type": "markdown",
   "id": "6a71261d",
   "metadata": {},
   "source": [
    "### Showing heatmap for achieved correlation.\n",
    "- Heatmap is defined as a graphical representation of data using colors to visualize the value of the matrix. Heatmap is also defined by the name of the shading matrix. Heatmaps in Seaborn can be plotted by using the seaborn.heatmap() function."
   ]
  },
  {
   "cell_type": "code",
   "execution_count": null,
   "id": "b96a586e",
   "metadata": {},
   "outputs": [],
   "source": [
    "plt.figure(figsize = (12, 8))\n",
    "sns.heatmap(data.corr(), annot = True)"
   ]
  },
  {
   "cell_type": "markdown",
   "id": "c091da90",
   "metadata": {},
   "source": [
    "### Numeric-Numeric Analysis\n",
    "Analyzing the two numeric variables from a dataset is known as numeric-numeric analysis. We can analyze it in three different ways.\n",
    "\n",
    "- Scatterplot\n",
    "- Pairplot\n",
    "- Barplot\n",
    "- Piechart\n",
    "- Lineplot"
   ]
  },
  {
   "cell_type": "markdown",
   "id": "a4168b76",
   "metadata": {},
   "source": [
    "## Scatter Plot\n",
    "- The scatter plot is a mainstay of statistical visualization. It depicts the joint distribution of two variables using a cloud of points, where each point represents an observation in the dataset. This depiction allows the eye to infer a substantial amount of information about whether there is any meaningful relationship between them."
   ]
  },
  {
   "cell_type": "code",
   "execution_count": null,
   "id": "6e00585e",
   "metadata": {},
   "outputs": [],
   "source": [
    "plt.figure(figsize=(10,7))\n",
    "sns.scatterplot(x = 'FULLY_VACCINATED', y = 'TOTAL_VACCINATIONS', data = data, color = 'r', marker = '*')"
   ]
  },
  {
   "cell_type": "markdown",
   "id": "7fa8fb7a",
   "metadata": {},
   "source": [
    "## Pair Plot\n",
    "- A pairplot plot a pairwise relationships in a dataset. The pairplot function creates a grid of Axes such that each variable in data will by shared in the y-axis across a single row and in the x-axis across a single column."
   ]
  },
  {
   "cell_type": "code",
   "execution_count": null,
   "id": "0713fb56",
   "metadata": {},
   "outputs": [],
   "source": [
    "plt.figure(figsize=(20,10))\n",
    "sns.pairplot(data=data,vars=['PERSONS_FULLY_VACCINATED_PER100','FULLY_VACCINATED','TOTAL_VACCINATIONS'])\n",
    "plt.show()"
   ]
  },
  {
   "cell_type": "markdown",
   "id": "bb048381",
   "metadata": {},
   "source": [
    "## Histogram"
   ]
  },
  {
   "cell_type": "code",
   "execution_count": null,
   "id": "8283c25c",
   "metadata": {},
   "outputs": [],
   "source": [
    "plt.hist(data['FULLY_VACCINATED'])"
   ]
  },
  {
   "cell_type": "markdown",
   "id": "7f3431ef",
   "metadata": {},
   "source": [
    "## Barchart\n",
    "- Barplot will show the relation between two numeric data"
   ]
  },
  {
   "cell_type": "code",
   "execution_count": null,
   "id": "87c7120d",
   "metadata": {},
   "outputs": [],
   "source": [
    "plt.figure(figsize=(30,30))\n",
    "sns.barplot(data['WHO_REGION'], data['TOTAL_VACCINATIONS'])"
   ]
  },
  {
   "cell_type": "markdown",
   "id": "4e102c6b",
   "metadata": {},
   "source": [
    "## Piechart\n",
    "- A Pie Chart is a circular statistical plot that can display only one series of data."
   ]
  },
  {
   "cell_type": "code",
   "execution_count": null,
   "id": "3ab1e512",
   "metadata": {},
   "outputs": [],
   "source": [
    "plt.figure(figsize = (12, 12))\n",
    "df = [fv, plusdose, nov]\n",
    "alcohol = ['Fully Vacinated', 'One plus Dose', 'Total Vacinations']\n",
    "plt.pie(df, labels = alcohol)\n",
    "plt.title('Total Vaccinations Done')"
   ]
  },
  {
   "cell_type": "markdown",
   "id": "ac6c8312",
   "metadata": {},
   "source": [
    "## Line Plot"
   ]
  },
  {
   "cell_type": "code",
   "execution_count": null,
   "id": "490de1ca",
   "metadata": {},
   "outputs": [],
   "source": [
    "plt.figure(figsize=(20,6))\n",
    "plt.style.use('seaborn-darkgrid')\n",
    "sns.lineplot(x = data['WHO_REGION'], y =  data['PERSONS_VACCINATED_1PLUS_DOSE'],linewidth=1.5,label='PERSONS_VACCINATED_1PLUS_DOSE')\n",
    "sns.lineplot(x = data['WHO_REGION'], y =  data['VACCINATED_1PLUS_DOSE_PER100'],linewidth=1.5,label='VACCINATED_1PLUS_DOSE_PER100')"
   ]
  },
  {
   "cell_type": "code",
   "execution_count": null,
   "id": "2ae5ed88",
   "metadata": {},
   "outputs": [],
   "source": [
    "cols = ['WHO_REGION', 'TOTAL_VACCINATIONS','FULLY_VACCINATED','NUMBER_VACCINES_TYPES_USED']\n",
    "X = data[cols]\n",
    "Y = data[['NUMBER_VACCINES_TYPES_USED']]\n",
    "X.head(10)"
   ]
  },
  {
   "cell_type": "code",
   "execution_count": null,
   "id": "cb4fb22e",
   "metadata": {},
   "outputs": [],
   "source": [
    "from sklearn.preprocessing import StandardScaler\n",
    "sc = StandardScaler()\n",
    "cols = ['TOTAL_VACCINATIONS','FULLY_VACCINATED']\n",
    "X[cols] = sc.fit_transform(X[cols])"
   ]
  },
  {
   "cell_type": "code",
   "execution_count": null,
   "id": "af9c83c8",
   "metadata": {},
   "outputs": [],
   "source": [
    "from sklearn.preprocessing import LabelEncoder\n",
    "le = LabelEncoder()\n",
    "X['WHO_REGION'] = le.fit_transform(X['WHO_REGION'])"
   ]
  },
  {
   "cell_type": "code",
   "execution_count": null,
   "id": "8e3262eb",
   "metadata": {},
   "outputs": [],
   "source": [
    "X.head()"
   ]
  },
  {
   "cell_type": "code",
   "execution_count": null,
   "id": "c35f5a8b",
   "metadata": {},
   "outputs": [],
   "source": []
  }
 ],
 "metadata": {
  "kernelspec": {
   "display_name": "Python 3 (ipykernel)",
   "language": "python",
   "name": "python3"
  },
  "language_info": {
   "codemirror_mode": {
    "name": "ipython",
    "version": 3
   },
   "file_extension": ".py",
   "mimetype": "text/x-python",
   "name": "python",
   "nbconvert_exporter": "python",
   "pygments_lexer": "ipython3",
   "version": "3.9.6"
  },
  "varInspector": {
   "cols": {
    "lenName": 16,
    "lenType": 16,
    "lenVar": 40
   },
   "kernels_config": {
    "python": {
     "delete_cmd_postfix": "",
     "delete_cmd_prefix": "del ",
     "library": "var_list.py",
     "varRefreshCmd": "print(var_dic_list())"
    },
    "r": {
     "delete_cmd_postfix": ") ",
     "delete_cmd_prefix": "rm(",
     "library": "var_list.r",
     "varRefreshCmd": "cat(var_dic_list()) "
    }
   },
   "types_to_exclude": [
    "module",
    "function",
    "builtin_function_or_method",
    "instance",
    "_Feature"
   ],
   "window_display": false
  }
 },
 "nbformat": 4,
 "nbformat_minor": 5
}
